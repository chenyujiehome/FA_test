{
 "cells": [
  {
   "cell_type": "code",
   "execution_count": 1,
   "id": "a78fc97c",
   "metadata": {},
   "outputs": [],
   "source": [
    "import pandas as pd\n",
    "import torch\n",
    "import time\n",
    "from flash_attn import flash_attn_qkvpacked_func, flash_attn_func\n",
    "from tqdm import tqdm  # 导入tqdm库"
   ]
  },
  {
   "cell_type": "code",
   "execution_count": null,
   "id": "3240b781",
   "metadata": {},
   "outputs": [
    {
     "name": "stdout",
     "output_type": "stream",
     "text": [
      "/root/miniconda3/bin/python\n",
      "['/root/autodl-tmp/FA_test_A100', '/root/miniconda3/lib/python38.zip', '/root/miniconda3/lib/python3.8', '/root/miniconda3/lib/python3.8/lib-dynload', '', '/root/miniconda3/lib/python3.8/site-packages']\n"
     ]
    }
   ],
   "source": [
    "import sys\n",
    "print(sys.executable)\n",
    "print(sys.path)"
   ]
  },
  {
   "cell_type": "code",
   "execution_count": 9,
   "id": "893de2c5",
   "metadata": {},
   "outputs": [
    {
     "name": "stdout",
     "output_type": "stream",
     "text": [
      "Package    Version\n",
      "---------- -------\n",
      "pip        23.2.1\n",
      "setuptools 68.0.0\n",
      "tqdm       4.66.1\n",
      "wheel      0.38.4\n"
     ]
    }
   ],
   "source": [
    "!pip list"
   ]
  },
  {
   "cell_type": "code",
   "execution_count": 2,
   "id": "e275abd2",
   "metadata": {},
   "outputs": [],
   "source": [
    "# 检查是否有可用的GPU并设为默认设备\n",
    "device = torch.device('cuda' if torch.cuda.is_available() else 'cpu')\n",
    "\n",
    "# 从Excel文件中读取数据\n",
    "df = pd.read_excel('test_dim_data.xlsx', engine='openpyxl')\n",
    "\n",
    "# 创建一个新的数据框用于保存运行时间\n",
    "results = {\n",
    "    'batchsize': [],\n",
    "    'nheads': [],\n",
    "    'headdim': [],\n",
    "    'seqlen': [],\n",
    "    'average_time': [],\n",
    "    'all_times': []\n",
    "}"
   ]
  },
  {
   "cell_type": "code",
   "execution_count": 3,
   "id": "1837216e",
   "metadata": {},
   "outputs": [
    {
     "data": {
      "text/plain": [
       "device(type='cuda')"
      ]
     },
     "execution_count": 3,
     "metadata": {},
     "output_type": "execute_result"
    }
   ],
   "source": [
    "device"
   ]
  },
  {
   "cell_type": "code",
   "execution_count": 4,
   "id": "ec94d806",
   "metadata": {},
   "outputs": [
    {
     "name": "stderr",
     "output_type": "stream",
     "text": [
      "Processing rows: 100%|█████████████████████████████████████████████████████| 16/16 [09:47<00:00, 36.75s/it]\n"
     ]
    }
   ],
   "source": [
    "# 遍历每一行数据\n",
    "for _, row in tqdm(df.iterrows(), total=df.shape[0], desc=\"Processing rows\"):\n",
    "    batch_size = int(row['batchsize'])\n",
    "    nheads = int(row['nheads'])\n",
    "    headdim = int(row['headdim'])\n",
    "    seqlen = int(row['seqlen'])\n",
    "    \n",
    "    times = []\n",
    "\n",
    "    # GPU预热\n",
    "    q = torch.randn(batch_size, seqlen, nheads, headdim).to(device).half()\n",
    "    k = torch.randn(batch_size, seqlen, nheads, headdim).to(device).half()\n",
    "    v = torch.randn(batch_size, seqlen, nheads, headdim).to(device).half()\n",
    "    flash_attn_func(q, k, v, dropout_p=0.0, softmax_scale=None, causal=False)\n",
    "\n",
    "    for _ in range(100):\n",
    "        q = torch.randn(batch_size, seqlen, nheads, headdim).to(device).half()\n",
    "        k = torch.randn(batch_size, seqlen, nheads, headdim).to(device).half()\n",
    "        v = torch.randn(batch_size, seqlen, nheads, headdim).to(device).half()\n",
    "\n",
    "        start_time = time.time()\n",
    "        flash_attn_func(q, k, v, dropout_p=0.0, softmax_scale=None, causal=False)\n",
    "        torch.cuda.synchronize()  # CUDA同步\n",
    "        end_time = time.time()\n",
    "\n",
    "        times.append(end_time - start_time)\n",
    "\n",
    "    times_sorted = sorted(times)\n",
    "    times_filtered = times_sorted[1:-1]  # 移除最大和最小值\n",
    "    average_time = sum(times_filtered) / (len(times_filtered))\n",
    "\n",
    "    # 保存结果\n",
    "    results['batchsize'].append(batch_size)\n",
    "    results['nheads'].append(nheads)\n",
    "    results['headdim'].append(headdim)\n",
    "    results['seqlen'].append(seqlen)\n",
    "    results['average_time'].append(average_time)\n",
    "    results['all_times'].append(times_filtered)  # 保存筛选后的时间\n",
    "\n",
    "\n"
   ]
  },
  {
   "cell_type": "code",
   "execution_count": 5,
   "id": "65cbe397",
   "metadata": {},
   "outputs": [],
   "source": [
    "# 将结果保存到新的Excel文件中\n",
    "results_df = pd.DataFrame(results)\n",
    "results_df.to_excel('test_dim_data_results_FA2.xlsx', index=False)"
   ]
  }
 ],
 "metadata": {
  "kernelspec": {
   "display_name": "Python 3",
   "language": "python",
   "name": "python3"
  },
  "language_info": {
   "codemirror_mode": {
    "name": "ipython",
    "version": 3
   },
   "file_extension": ".py",
   "mimetype": "text/x-python",
   "name": "python",
   "nbconvert_exporter": "python",
   "pygments_lexer": "ipython3",
   "version": "3.8.17"
  }
 },
 "nbformat": 4,
 "nbformat_minor": 5
}
