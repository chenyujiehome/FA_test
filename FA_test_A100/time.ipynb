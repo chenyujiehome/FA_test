{
 "cells": [
  {
   "cell_type": "code",
   "execution_count": null,
   "metadata": {},
   "outputs": [],
   "source": [
    "import torch\n",
    "import torch.nn as nn\n",
    "import time\n",
    "from flash_attn import flash_attn_qkvpacked_func, flash_attn_func"
   ]
  },
  {
   "cell_type": "markdown",
   "metadata": {},
   "source": [
    "qkv,output: (batch_size, seqlen, nheads, headdim)\n",
    "1. 生成随机数，按照表格的维度生成"
   ]
  },
  {
   "cell_type": "code",
   "execution_count": null,
   "metadata": {},
   "outputs": [],
   "source": [
    "import pandas as pd\n",
    "import torch\n",
    "\n",
    "# 从Excel文件中读取数据\n",
    "df = pd.read_excel('test_dim_data.xlsx', engine='openpyxl')\n",
    "\n",
    "# 遍历每一行数据，并为对应的维度生成q, k, v的随机数矩阵\n",
    "for _, row in df.iterrows():\n",
    "    batch_size = int(row['batchsize'])\n",
    "    nheads = int(row['nheads'])\n",
    "    headdim = int(row['headdim'])\n",
    "    seqlen = int(row['seqlen'])\n",
    "\n",
    "    q = torch.randn(batch_size, seqlen, nheads, headdim)\n",
    "    k = torch.randn(batch_size, seqlen, nheads, headdim)\n",
    "    v = torch.randn(batch_size, seqlen, nheads, headdim)\n",
    "    start_time = time.time()\n",
    "    flash_attn_func(q, k, v, dropout_p=0.0, softmax_scale=None, causal=False)\n",
    "    end_time = time.time()\n",
    "    print(f\"Backward pass time: {end_time - start_time} seconds\")"
   ]
  },
  {
   "cell_type": "code",
   "execution_count": null,
   "metadata": {},
   "outputs": [],
   "source": []
  }
 ],
 "metadata": {
  "kernelspec": {
   "display_name": "Python 3 (ipykernel)",
   "language": "python",
   "name": "python3"
  },
  "language_info": {
   "codemirror_mode": {
    "name": "ipython",
    "version": 3
   },
   "file_extension": ".py",
   "mimetype": "text/x-python",
   "name": "python",
   "nbconvert_exporter": "python",
   "pygments_lexer": "ipython3",
   "version": "3.8.17"
  }
 },
 "nbformat": 4,
 "nbformat_minor": 2
}
