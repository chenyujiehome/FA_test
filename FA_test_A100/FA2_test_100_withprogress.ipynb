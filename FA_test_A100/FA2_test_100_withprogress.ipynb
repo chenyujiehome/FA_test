{
 "cells": [
  {
   "cell_type": "code",
   "execution_count": 2,
   "metadata": {},
   "outputs": [],
   "source": [
    "import pandas as pd\n",
    "import torch\n",
    "import time\n",
    "from flash_attn import flash_attn_qkvpacked_func, flash_attn_func\n",
    "from tqdm import tqdm  # 导入tqdm\n",
    "\n",
    "# 检查是否有可用的GPU并设为默认设备\n",
    "device = torch.device('cuda' if torch.cuda.is_available() else 'cpu')\n",
    "\n",
    "# 从Excel文件中读取数据\n",
    "df = pd.read_excel('test_dim_data.xlsx', engine='openpyxl')\n",
    "\n",
    "# 创建一个新的数据框用于保存运行时间\n",
    "results = {\n",
    "    'batchsize': [],\n",
    "    'nheads': [],\n",
    "    'headdim': [],\n",
    "    'seqlen': [],\n",
    "    'average_time': [],\n",
    "    'all_times': []\n",
    "}\n",
    "\n",
    "\n"
   ]
  },
  {
   "cell_type": "code",
   "execution_count": 16,
   "metadata": {},
   "outputs": [
    {
     "data": {
      "text/plain": [
       "1"
      ]
     },
     "execution_count": 16,
     "metadata": {},
     "output_type": "execute_result"
    }
   ],
   "source": [
    "torch.cuda.device_count()"
   ]
  },
  {
   "cell_type": "code",
   "execution_count": 3,
   "metadata": {},
   "outputs": [
    {
     "data": {
      "text/plain": [
       "device(type='cuda')"
      ]
     },
     "execution_count": 3,
     "metadata": {},
     "output_type": "execute_result"
    }
   ],
   "source": [
    "device"
   ]
  },
  {
   "cell_type": "code",
   "execution_count": 6,
   "metadata": {},
   "outputs": [
    {
     "data": {
      "text/plain": [
       "40"
      ]
     },
     "execution_count": 6,
     "metadata": {},
     "output_type": "execute_result"
    }
   ],
   "source": [
    "df[\"nheads\"][0]"
   ]
  },
  {
   "cell_type": "code",
   "execution_count": 14,
   "metadata": {},
   "outputs": [
    {
     "data": {
      "text/plain": [
       "device(type='cuda', index=0)"
      ]
     },
     "execution_count": 14,
     "metadata": {},
     "output_type": "execute_result"
    }
   ],
   "source": [
    "# 使用tqdm遍历每一行数据，将df.iterrows()包装在tqdm()中\n",
    "batch_size = int(df['batchsize'][0])\n",
    "nheads = int(df['nheads'][0])\n",
    "headdim = int(df['headdim'][0])\n",
    "seqlen = int(df['seqlen'][0])\n",
    "q = torch.randn(batch_size, seqlen, nheads, headdim).to(device).half()\n",
    "k = torch.randn(batch_size, seqlen, nheads, headdim).to(device).half()\n",
    "v = torch.randn(batch_size, seqlen, nheads, headdim).to(device).half()\n",
    "q.device\n"
   ]
  },
  {
   "cell_type": "code",
   "execution_count": 11,
   "metadata": {},
   "outputs": [
    {
     "data": {
      "text/plain": [
       "torch.float16"
      ]
     },
     "execution_count": 11,
     "metadata": {},
     "output_type": "execute_result"
    }
   ],
   "source": [
    "q.dtype"
   ]
  },
  {
   "cell_type": "code",
   "execution_count": 12,
   "metadata": {},
   "outputs": [
    {
     "data": {
      "text/plain": [
       "torch.float32"
      ]
     },
     "execution_count": 12,
     "metadata": {},
     "output_type": "execute_result"
    }
   ],
   "source": [
    "batch_size = int(df['batchsize'][0])\n",
    "nheads = int(df['nheads'][0])\n",
    "headdim = int(df['headdim'][0])\n",
    "seqlen = int(df['seqlen'][0])\n",
    "q = torch.randn(batch_size, seqlen, nheads, headdim)\n",
    "q.dtype"
   ]
  },
  {
   "cell_type": "code",
   "execution_count": 13,
   "metadata": {},
   "outputs": [
    {
     "data": {
      "text/plain": [
       "device(type='cpu')"
      ]
     },
     "execution_count": 13,
     "metadata": {},
     "output_type": "execute_result"
    }
   ],
   "source": [
    "q.device"
   ]
  },
  {
   "cell_type": "code",
   "execution_count": null,
   "metadata": {},
   "outputs": [],
   "source": [
    "# 使用tqdm遍历每一行数据，将df.iterrows()包装在tqdm()中\n",
    "for _, row in tqdm(df.iterrows(), total=df.shape[0], desc=\"Processing rows\"):\n",
    "    batch_size = int(row['batchsize'])\n",
    "    nheads = int(row['nheads'])\n",
    "    headdim = int(row['headdim'])\n",
    "    seqlen = int(row['seqlen'])\n",
    "    \n",
    "    times = []\n",
    "\n",
    "    # 你也可以为内部的循环增加进度条\n",
    "    for _ in tqdm(range(100), desc=f\"Testing {seqlen} seqlen\", leave=False):  # leave=False使进度条在完成后不占用空间\n",
    "        q = torch.randn(batch_size, seqlen, nheads, headdim).to(device).half()\n",
    "        k = torch.randn(batch_size, seqlen, nheads, headdim).to(device).half()\n",
    "        v = torch.randn(batch_size, seqlen, nheads, headdim).to(device).half()\n",
    "\n",
    "        start_time = time.time()\n",
    "        flash_attn_func(q, k, v, dropout_p=0.0, softmax_scale=None, causal=False)\n",
    "        end_time = time.time()\n",
    "        times.append(end_time - start_time)\n",
    "    \n",
    "    average_time = sum(times) / 100\n",
    "\n",
    "    # 保存结果\n",
    "    results['batchsize'].append(batch_size)\n",
    "    results['nheads'].append(nheads)\n",
    "    results['headdim'].append(headdim)\n",
    "    results['seqlen'].append(seqlen)\n",
    "    results['average_time'].append(average_time)\n",
    "    results['all_times'].append(times)\n",
    "\n",
    "# 将结果保存到新的Excel文件中\n",
    "results_df = pd.DataFrame(results)\n",
    "results_df.to_excel('test_dim_data_results.xlsx', index=False)"
   ]
  }
 ],
 "metadata": {
  "kernelspec": {
   "display_name": "Python 3 (ipykernel)",
   "language": "python",
   "name": "python3"
  },
  "language_info": {
   "codemirror_mode": {
    "name": "ipython",
    "version": 3
   },
   "file_extension": ".py",
   "mimetype": "text/x-python",
   "name": "python",
   "nbconvert_exporter": "python",
   "pygments_lexer": "ipython3",
   "version": "3.8.10"
  }
 },
 "nbformat": 4,
 "nbformat_minor": 2
}
